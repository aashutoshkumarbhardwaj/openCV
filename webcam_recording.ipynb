{
  "nbformat": 4,
  "nbformat_minor": 0,
  "metadata": {
    "colab": {
      "provenance": []
    },
    "kernelspec": {
      "name": "python3",
      "display_name": "Python 3"
    },
    "language_info": {
      "name": "python"
    }
  },
  "cells": [
    {
      "cell_type": "code",
      "execution_count": 7,
      "metadata": {
        "id": "WvB3nMAlOEVs"
      },
      "outputs": [],
      "source": [
        "import cv2\n",
        "cap =cv2.VideoCapture(0)\n",
        "fourcc=cv2.VideoWriter_fourcc(*'XVID')\n",
        "out=cv2.VideoWriter('output.avi',fourcc,20.0,(640,480))\n",
        "while True:\n",
        "  ret ,  frame=cap.read()\n",
        "  if not ret:\n",
        "    break\n",
        "\n",
        "  img_grey=cv2.cvtColor(frame,cv2.COLOR_BGR2GRAY)\n",
        "  out.write(frame)\n",
        "  cv2.imshow(\"webcam\",img_grey)\n",
        "\n",
        "  if cv2.waitKey(1) & 0xFF==ord('q'):\n",
        "    break\n",
        "out.release()\n",
        "cv2.destroyAllWindows()\n"
      ]
    },
    {
      "cell_type": "code",
      "source": [],
      "metadata": {
        "id": "buJevVN3OR4r"
      },
      "execution_count": 6,
      "outputs": []
    }
  ]
}
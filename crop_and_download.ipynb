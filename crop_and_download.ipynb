{
  "nbformat": 4,
  "nbformat_minor": 0,
  "metadata": {
    "colab": {
      "provenance": []
    },
    "kernelspec": {
      "name": "python3",
      "display_name": "Python 3"
    },
    "language_info": {
      "name": "python"
    }
  },
  "cells": [
    {
      "cell_type": "code",
      "execution_count": null,
      "metadata": {
        "id": "6p3WzNN4EPrG"
      },
      "outputs": [],
      "source": [
        "import cv2\n",
        "import numpy as np\n",
        "import os\n",
        "\n",
        "drawing = False\n",
        "ix, iy = -1, -1\n",
        "cropped = None\n",
        "\n",
        "# mouse callback function\n",
        "def crop(event, x, y, flags, param):\n",
        "    global ix, iy, drawing, img, cropped\n",
        "\n",
        "    if event == cv2.EVENT_LBUTTONDOWN:\n",
        "        drawing = True\n",
        "        ix, iy = x, y\n",
        "\n",
        "    elif event == cv2.EVENT_MOUSEMOVE:\n",
        "        if drawing:\n",
        "            temp = img.copy()\n",
        "            cv2.rectangle(temp, (ix, iy), (x, y), (0, 255, 0), 2)\n",
        "            cv2.imshow(\"window\", temp)\n",
        "\n",
        "    elif event == cv2.EVENT_LBUTTONUP:\n",
        "        drawing = False\n",
        "        cv2.rectangle(img, (ix, iy), (x, y), (0, 255, 0), 2)\n",
        "        cropped = img[min(iy, y):max(iy, y), min(ix, x):max(ix, x)]\n",
        "        if cropped.size > 0:   # only show if valid\n",
        "            cv2.imshow(\"cropped\", cropped)\n",
        "\n",
        "\n",
        "# Load the image\n",
        "image_path = '/content/beautiful-flower-nature.jpg'\n",
        "if os.path.exists(image_path):\n",
        "    img = cv2.imread(image_path)\n",
        "else:\n",
        "    # create a black image if file missing\n",
        "    img = np.zeros((500, 500, 3), dtype=np.uint8)\n",
        "    print(f\"Image file not found at {image_path}. Creating a black image.\")\n",
        "\n",
        "\n",
        "cv2.namedWindow(\"window\")\n",
        "cv2.setMouseCallback(\"window\", crop)\n",
        "\n",
        "while True:\n",
        "    cv2.imshow(\"window\", img)\n",
        "    key = cv2.waitKey(1) & 0xFF\n",
        "    if key == ord('x'):  # press 'x' to exit\n",
        "        break\n",
        "    elif key == ord('s'): # press 's' to save the cropped image\n",
        "        if cropped is not None and cropped.size > 0:\n",
        "            cv2.imwrite(\"cropped_image.jpg\", cropped)\n",
        "            print(\"Cropped image saved as cropped_image.jpg\")\n",
        "        else:\n",
        "            print(\"No valid cropped image to save.\")\n",
        "\n",
        "\n",
        "cv2.destroyAllWindows()"
      ]
    }
  ]
}
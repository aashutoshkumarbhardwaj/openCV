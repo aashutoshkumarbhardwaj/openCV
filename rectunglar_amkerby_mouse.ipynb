{
  "nbformat": 4,
  "nbformat_minor": 0,
  "metadata": {
    "colab": {
      "provenance": []
    },
    "kernelspec": {
      "name": "python3",
      "display_name": "Python 3"
    },
    "language_info": {
      "name": "python"
    }
  },
  "cells": [
    {
      "cell_type": "code",
      "execution_count": null,
      "metadata": {
        "id": "6p3WzNN4EPrG"
      },
      "outputs": [],
      "source": [
        "import cv2\n",
        "import numpy as np\n",
        "\n",
        "ix = -1\n",
        "iy = -1\n",
        "flag = False  # Initialize flag\n",
        "\n",
        "def draw (event, x, y, flags, param):\n",
        "    global flag, ix, iy  # Declare global variables\n",
        "    if event == cv2.EVENT_LBUTTONDOWN:  # Use cv2 event constants\n",
        "        flag = True\n",
        "        ix = x\n",
        "        iy = y\n",
        "    elif event == cv2.EVENT_MOUSEMOVE: # Use cv2 event constants\n",
        "        if flag: # Check if flag is True\n",
        "            pass # Add a placeholder if no action is needed during mouse move\n",
        "    elif event == cv2.EVENT_LBUTTONUP:  # Use cv2 event constants\n",
        "        flag = False\n",
        "        cv2.rectangle(img, (ix,iy), (x,y), (0,255,0), -1)\n",
        "\n",
        "cv2.namedWindow(winname=\"window\") # Use winname parameter\n",
        "cv2.setMouseCallback(\"window\",draw)\n",
        "\n",
        "img = np.zeros((512,512,3), np.uint8) # Specify data type for array\n",
        "\n",
        "while True:\n",
        "  cv2.imshow(\"window\",img)\n",
        "  if cv2.waitKey(1) & 0xFF == ord(\"q\"):\n",
        "    break\n",
        "\n",
        "cv2.destroyAllWindows()"
      ]
    }
  ]
}